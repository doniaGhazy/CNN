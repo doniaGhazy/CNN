{
 "cells": [
  {
   "cell_type": "code",
   "execution_count": 1,
   "metadata": {},
   "outputs": [],
   "source": [
    "from ConvLayer import *\n",
    "from FullyConnected import *\n",
    "from MaxPoolLayer import *\n",
    "from Relu import *\n",
    "from SoftmaxLayer import *\n",
    "from Flatten import *\n",
    "import data as data\n",
    "import os \n",
    "from cnn import *\n",
    "import numpy as np\n",
    "np.random.seed(6666)  "
   ]
  },
  {
   "cell_type": "code",
   "execution_count": 2,
   "metadata": {},
   "outputs": [],
   "source": [
    "t_data=[]\n",
    "t_label=[]\n",
    "te_data=[]\n",
    "te_label=[]\n",
    "train_data=[]\n",
    "train_label=[]\n",
    "test_data=[]\n",
    "test_label=[]\n"
   ]
  },
  {
   "cell_type": "code",
   "execution_count": 3,
   "metadata": {},
   "outputs": [],
   "source": [
    "def loadData():\n",
    "    os.chdir(\"flower_photos\")\n",
    "    for root, dirs, files in os.walk(\".\", topdown = False):\n",
    "        for name in dirs:\n",
    "            final_training, final_test_data, test_label, training_label= data.process(os.path.join(root, name)[2:])\n",
    "            t_data.extend(final_training)\n",
    "            t_label.extend(training_label)\n",
    "            te_data.extend(final_test_data)\n",
    "            te_label.extend(test_label)\n",
    "            train_label=np.array(t_label)\n",
    "            train_data=np.array(t_data)\n",
    "            test_data= np.array(te_data)\n",
    "            test_label= np.array(te_label)\n",
    "            \n",
    "    return train_data, train_label,test_data,test_label"
   ]
  },
  {
   "cell_type": "code",
   "execution_count": 4,
   "metadata": {},
   "outputs": [
    {
     "name": "stdout",
     "output_type": "stream",
     "text": [
      "\n",
      "\n",
      "\n",
      "\n",
      "\n"
     ]
    }
   ],
   "source": [
    "train_data, train_label,test_data,test_label= loadData()"
   ]
  },
  {
   "cell_type": "code",
   "execution_count": 5,
   "metadata": {},
   "outputs": [
    {
     "name": "stdout",
     "output_type": "stream",
     "text": [
      "Training data shape:  (3170, 32, 32, 3)\n",
      "Training labels shape:  (3170,)\n",
      "Test data shape:  (500, 32, 32, 3)\n",
      "Test labels shape:  (500,)\n"
     ]
    }
   ],
   "source": [
    "print ('Training data shape: ', train_data.shape)\n",
    "print ('Training labels shape: ', train_label.shape)\n",
    "print ('Test data shape: ', test_data.shape)\n",
    "print ('Test labels shape: ', test_label.shape)"
   ]
  },
  {
   "cell_type": "code",
   "execution_count": 6,
   "metadata": {},
   "outputs": [],
   "source": [
    "#total training photos = 3170, so 90% of them is 2853\n",
    "s = np.random.permutation(train_data.shape[0])           # randomly shuffle the images and their corresponding labels\n",
    "train_data   = train_data[s]\n",
    "train_label = train_label[s]\n",
    "\n",
    "Xtr = train_data[:2853]                   # 90 % of the data for training\n",
    "Ytr = train_label[:2853]\n",
    "Xval = train_data[2853:]                  # 10 % for validation\n",
    "Yval = train_label[2853:]\n",
    "\n"
   ]
  },
  {
   "cell_type": "code",
   "execution_count": 7,
   "metadata": {},
   "outputs": [],
   "source": [
    "Xtr = Xtr- np.expand_dims(np.mean(Xtr,axis = 0),0)\n",
    "Xval = Xval- np.expand_dims(np.mean(Xval,axis = 0),0)\n",
    "test_data  = test_data- np.expand_dims(np.mean(test_data,axis = 0),0)\n",
    "\n",
    "Xtr  /= np.std(Xtr, axis=0)     \n",
    "Xval  /= np.std(Xval, axis=0)\n",
    "test_data  /= np.std(test_data, axis=0)\n"
   ]
  },
  {
   "cell_type": "code",
   "execution_count": 8,
   "metadata": {},
   "outputs": [
    {
     "name": "stdout",
     "output_type": "stream",
     "text": [
      "['daisy' 'dandelion' 'sunflowers' ... 'roses' 'roses' 'sunflowers']\n",
      "===============================================\n",
      "['4' '0' '1' ... '3' '3' '1']\n"
     ]
    }
   ],
   "source": [
    "print(Ytr)\n",
    "i =0\n",
    "print(\"===============================================\")\n",
    "with np.nditer(Ytr, op_flags=['readwrite']) as it:\n",
    "        for x in it:\n",
    "            if (x == 'dandelion'):\n",
    "                Ytr[i] = 0\n",
    "            elif (x == 'sunflowers'):\n",
    "                Ytr[i] = 1\n",
    "            elif (x == 'tulips'):\n",
    "                Ytr[i]= 2\n",
    "            elif (x == 'roses'):\n",
    "                Ytr[i] = 3\n",
    "            else: \n",
    "                Ytr[i] = 4\n",
    "            i+=1\n",
    "print(Ytr)"
   ]
  },
  {
   "cell_type": "code",
   "execution_count": 9,
   "metadata": {},
   "outputs": [],
   "source": [
    "i =0\n",
    "with np.nditer(Yval, op_flags=['readwrite']) as it:\n",
    "        for x in it:\n",
    "            if (x == 'dandelion'):\n",
    "                Yval[i] = 0\n",
    "            elif (x == 'sunflowers'):\n",
    "                Yval[i] = 1\n",
    "            elif (x == 'tulips'):\n",
    "                Yval[i]= 2\n",
    "            elif (x == 'roses'):\n",
    "                Yval[i] = 3\n",
    "            else: \n",
    "                Yval[i] = 4\n",
    "            i+=1"
   ]
  },
  {
   "cell_type": "code",
   "execution_count": 10,
   "metadata": {},
   "outputs": [
    {
     "name": "stdout",
     "output_type": "stream",
     "text": [
      "['4' '4' '4' '4' '4' '4' '4' '4' '4' '4' '4' '4' '4' '4' '4' '4' '4' '4'\n",
      " '4' '4' '4' '4' '4' '4' '4' '4' '4' '4' '4' '4' '4' '4' '4' '4' '4' '4'\n",
      " '4' '4' '4' '4' '4' '4' '4' '4' '4' '4' '4' '4' '4' '4' '4' '4' '4' '4'\n",
      " '4' '4' '4' '4' '4' '4' '4' '4' '4' '4' '4' '4' '4' '4' '4' '4' '4' '4'\n",
      " '4' '4' '4' '4' '4' '4' '4' '4' '4' '4' '4' '4' '4' '4' '4' '4' '4' '4'\n",
      " '4' '4' '4' '4' '4' '4' '4' '4' '4' '4' '0' '0' '0' '0' '0' '0' '0' '0'\n",
      " '0' '0' '0' '0' '0' '0' '0' '0' '0' '0' '0' '0' '0' '0' '0' '0' '0' '0'\n",
      " '0' '0' '0' '0' '0' '0' '0' '0' '0' '0' '0' '0' '0' '0' '0' '0' '0' '0'\n",
      " '0' '0' '0' '0' '0' '0' '0' '0' '0' '0' '0' '0' '0' '0' '0' '0' '0' '0'\n",
      " '0' '0' '0' '0' '0' '0' '0' '0' '0' '0' '0' '0' '0' '0' '0' '0' '0' '0'\n",
      " '0' '0' '0' '0' '0' '0' '0' '0' '0' '0' '0' '0' '0' '0' '0' '0' '0' '0'\n",
      " '0' '0' '3' '3' '3' '3' '3' '3' '3' '3' '3' '3' '3' '3' '3' '3' '3' '3'\n",
      " '3' '3' '3' '3' '3' '3' '3' '3' '3' '3' '3' '3' '3' '3' '3' '3' '3' '3'\n",
      " '3' '3' '3' '3' '3' '3' '3' '3' '3' '3' '3' '3' '3' '3' '3' '3' '3' '3'\n",
      " '3' '3' '3' '3' '3' '3' '3' '3' '3' '3' '3' '3' '3' '3' '3' '3' '3' '3'\n",
      " '3' '3' '3' '3' '3' '3' '3' '3' '3' '3' '3' '3' '3' '3' '3' '3' '3' '3'\n",
      " '3' '3' '3' '3' '3' '3' '3' '3' '3' '3' '3' '3' '1' '1' '1' '1' '1' '1'\n",
      " '1' '1' '1' '1' '1' '1' '1' '1' '1' '1' '1' '1' '1' '1' '1' '1' '1' '1'\n",
      " '1' '1' '1' '1' '1' '1' '1' '1' '1' '1' '1' '1' '1' '1' '1' '1' '1' '1'\n",
      " '1' '1' '1' '1' '1' '1' '1' '1' '1' '1' '1' '1' '1' '1' '1' '1' '1' '1'\n",
      " '1' '1' '1' '1' '1' '1' '1' '1' '1' '1' '1' '1' '1' '1' '1' '1' '1' '1'\n",
      " '1' '1' '1' '1' '1' '1' '1' '1' '1' '1' '1' '1' '1' '1' '1' '1' '1' '1'\n",
      " '1' '1' '1' '1' '2' '2' '2' '2' '2' '2' '2' '2' '2' '2' '2' '2' '2' '2'\n",
      " '2' '2' '2' '2' '2' '2' '2' '2' '2' '2' '2' '2' '2' '2' '2' '2' '2' '2'\n",
      " '2' '2' '2' '2' '2' '2' '2' '2' '2' '2' '2' '2' '2' '2' '2' '2' '2' '2'\n",
      " '2' '2' '2' '2' '2' '2' '2' '2' '2' '2' '2' '2' '2' '2' '2' '2' '2' '2'\n",
      " '2' '2' '2' '2' '2' '2' '2' '2' '2' '2' '2' '2' '2' '2' '2' '2' '2' '2'\n",
      " '2' '2' '2' '2' '2' '2' '2' '2' '2' '2' '2' '2' '2' '2']\n"
     ]
    }
   ],
   "source": [
    "i =0\n",
    "with np.nditer(test_label, op_flags=['readwrite']) as it:\n",
    "        for x in it:\n",
    "            if (x == 'dandelion'):\n",
    "                test_label[i] = 0\n",
    "            elif (x == 'sunflowers'):\n",
    "                test_label[i] = 1\n",
    "            elif (x == 'tulips'):\n",
    "                test_label[i]= 2\n",
    "            elif (x == 'roses'):\n",
    "                test_label[i] = 3\n",
    "            else: \n",
    "                test_label[i] = 4\n",
    "            i+=1\n",
    "print(test_label)"
   ]
  },
  {
   "cell_type": "code",
   "execution_count": 11,
   "metadata": {},
   "outputs": [],
   "source": [
    "Ytr = [int(i) for i in Ytr] \n",
    "Ytr = np.array(Ytr)\n",
    "Yval = [int(i) for i in Yval] \n",
    "Yval = np.array(Yval)\n",
    "test_label = [int(i) for i in test_label] \n",
    "test_label = np.array(test_label)\n"
   ]
  },
  {
   "cell_type": "code",
   "execution_count": 12,
   "metadata": {},
   "outputs": [
    {
     "name": "stdout",
     "output_type": "stream",
     "text": [
      "(500, 3, 32, 32)\n",
      "(317, 3, 32, 32)\n",
      "(2853, 3, 32, 32)\n"
     ]
    }
   ],
   "source": [
    "Xtr = np.transpose(Xtr, axes=(0, 3, 1, 2))\n",
    "Xval = np.transpose(Xval, axes=(0, 3, 1, 2))\n",
    "test_data = np.transpose(test_data, axes=(0, 3, 1, 2))\n",
    "\n",
    "print (test_data.shape)\n",
    "print (Xval.shape)\n",
    "print (Xtr.shape)"
   ]
  },
  {
   "cell_type": "code",
   "execution_count": 13,
   "metadata": {},
   "outputs": [],
   "source": [
    "CNN_Model = Model()"
   ]
  },
  {
   "cell_type": "code",
   "execution_count": 14,
   "metadata": {},
   "outputs": [
    {
     "name": "stdout",
     "output_type": "stream",
     "text": [
      "[<ConvLayer.ConvLayer object at 0x000002ACF66545C8>, <ReluLayer.Relu_Layer object at 0x000002ACF3D86248>, <ConvLayer.ConvLayer object at 0x000002ACF3D863C8>, <ReluLayer.Relu_Layer object at 0x000002ACF3D86488>, <MaxPoolLayer.max_pool object at 0x000002ACF3D86588>, <ConvLayer.ConvLayer object at 0x000002ACF3D865C8>, <ReluLayer.Relu_Layer object at 0x000002ACF3D86648>, <ConvLayer.ConvLayer object at 0x000002ACF3D86688>, <ReluLayer.Relu_Layer object at 0x000002ACF3D866C8>, <MaxPoolLayer.max_pool object at 0x000002ACF3D86788>, <Flatten.Flatten object at 0x000002ACF3D86608>, <FullyConnected.fully_connected object at 0x000002ACF3D86808>, <ReluLayer.Relu_Layer object at 0x000002ACF3D86848>, <FullyConnected.fully_connected object at 0x000002ACF3D868C8>, <ReluLayer.Relu_Layer object at 0x000002ACF3D86908>, <FullyConnected.fully_connected object at 0x000002ACF3D869C8>, <SoftmaxLayer.softmax object at 0x000002ACF3D86A08>]\n"
     ]
    }
   ],
   "source": [
    "CNN_Model.add_augmentation()\n",
    "\n",
    "CNN_Model.add_layer(ConvLayer(num_filters=32))\n",
    "CNN_Model.add_layer(Relu_Layer())\n",
    "CNN_Model.add_layer(ConvLayer(input_shape=[32,32,32],num_filters=32,filter_dims=[32,3,3]))\n",
    "CNN_Model.add_layer(Relu_Layer())\n",
    "CNN_Model.add_layer(max_pool())\n",
    "\n",
    "CNN_Model.add_layer(ConvLayer(input_shape=[32,16,16],num_filters=64,filter_dims=[32,3,3]))\n",
    "CNN_Model.add_layer(Relu_Layer())\n",
    "CNN_Model.add_layer(ConvLayer(input_shape=[64,16,16],num_filters=64,filter_dims=[64,3,3]))\n",
    "CNN_Model.add_layer(Relu_Layer())\n",
    "CNN_Model.add_layer(max_pool())\n",
    "\n",
    "CNN_Model.add_layer(Flatten())\n",
    "\n",
    "CNN_Model.add_layer(fully_connected(4096,2000))\n",
    "CNN_Model.add_layer(Relu_Layer())\n",
    "                \n",
    "CNN_Model.add_layer(fully_connected(2000,800))\n",
    "CNN_Model.add_layer(Relu_Layer())\n",
    "        \n",
    "CNN_Model.add_layer(fully_connected(800,5))\n",
    "CNN_Model.add_layer(softmax())\n",
    "\n",
    "print(CNN_Model.layers)"
   ]
  },
  {
   "cell_type": "code",
   "execution_count": 15,
   "metadata": {
    "scrolled": false
   },
   "outputs": [
    {
     "name": "stdout",
     "output_type": "stream",
     "text": [
      "(Epoch 0 / 50), train loss: 2.099601, train acc: 0.200000, val_loss:  2.692175 val_acc: 0.283912\n",
      "(Epoch 1 / 50), train loss: 1.568462, train acc: 0.320000, val_loss:  1.605508 val_acc: 0.205047\n",
      "(Epoch 2 / 50), train loss: 1.484636, train acc: 0.380000, val_loss:  1.632938 val_acc: 0.296530\n",
      "(Epoch 3 / 50), train loss: 1.441405, train acc: 0.450000, val_loss:  1.361072 val_acc: 0.447950\n",
      "(Epoch 4 / 50), train loss: 1.172906, train acc: 0.550000, val_loss:  1.033863 val_acc: 0.457413\n",
      "(Epoch 5 / 50), train loss: 0.994138, train acc: 0.450000, val_loss:  1.207504 val_acc: 0.498423\n",
      "(Epoch 6 / 50), train loss: 1.071292, train acc: 0.520000, val_loss:  0.749938 val_acc: 0.504732\n",
      "(Epoch 7 / 50), train loss: 0.909878, train acc: 0.510000, val_loss:  1.166296 val_acc: 0.498423\n",
      "(Epoch 8 / 50), train loss: 0.822603, train acc: 0.500000, val_loss:  1.518064 val_acc: 0.529968\n",
      "(Epoch 9 / 50), train loss: 1.088119, train acc: 0.610000, val_loss:  0.952661 val_acc: 0.492114\n",
      "(Epoch 10 / 50), train loss: 0.868707, train acc: 0.570000, val_loss:  1.155921 val_acc: 0.583596\n",
      "(Epoch 11 / 50), train loss: 0.855839, train acc: 0.560000, val_loss:  1.242616 val_acc: 0.558360\n",
      "(Epoch 12 / 50), train loss: 0.782353, train acc: 0.710000, val_loss:  0.979688 val_acc: 0.529968\n",
      "(Epoch 13 / 50), train loss: 0.785868, train acc: 0.630000, val_loss:  1.329390 val_acc: 0.539432\n",
      "(Epoch 14 / 50), train loss: 1.049020, train acc: 0.690000, val_loss:  1.062526 val_acc: 0.586751\n",
      "(Epoch 15 / 50), train loss: 0.615218, train acc: 0.740000, val_loss:  1.001079 val_acc: 0.618297\n",
      "(Epoch 16 / 50), train loss: 0.604083, train acc: 0.800000, val_loss:  0.957115 val_acc: 0.649842\n",
      "(Epoch 17 / 50), train loss: 0.522663, train acc: 0.620000, val_loss:  1.315014 val_acc: 0.615142\n",
      "(Epoch 18 / 50), train loss: 0.496280, train acc: 0.750000, val_loss:  1.184073 val_acc: 0.624606\n",
      "(Epoch 19 / 50), train loss: 0.604565, train acc: 0.770000, val_loss:  0.787573 val_acc: 0.700315\n",
      "(Epoch 20 / 50), train loss: 0.675300, train acc: 0.840000, val_loss:  0.857273 val_acc: 0.681388\n",
      "(Epoch 21 / 50), train loss: 0.646628, train acc: 0.880000, val_loss:  0.781947 val_acc: 0.671924\n",
      "(Epoch 22 / 50), train loss: 0.423614, train acc: 0.730000, val_loss:  0.825178 val_acc: 0.694006\n",
      "(Epoch 23 / 50), train loss: 0.367681, train acc: 0.880000, val_loss:  0.695909 val_acc: 0.700315\n",
      "(Epoch 24 / 50), train loss: 0.345684, train acc: 0.860000, val_loss:  0.528649 val_acc: 0.719243\n",
      "(Epoch 25 / 50), train loss: 0.244587, train acc: 0.830000, val_loss:  1.575251 val_acc: 0.703470\n",
      "(Epoch 26 / 50), train loss: 0.294370, train acc: 0.860000, val_loss:  0.737219 val_acc: 0.671924\n",
      "(Epoch 27 / 50), train loss: 0.438684, train acc: 0.820000, val_loss:  1.250436 val_acc: 0.694006\n",
      "(Epoch 28 / 50), train loss: 0.213026, train acc: 0.850000, val_loss:  1.192873 val_acc: 0.681388\n",
      "(Epoch 29 / 50), train loss: 0.382264, train acc: 0.860000, val_loss:  0.917871 val_acc: 0.684543\n",
      "(Epoch 30 / 50), train loss: 0.510028, train acc: 0.890000, val_loss:  0.770815 val_acc: 0.684543\n",
      "(Epoch 31 / 50), train loss: 0.179491, train acc: 0.860000, val_loss:  0.772516 val_acc: 0.728707\n",
      "(Epoch 32 / 50), train loss: 0.202658, train acc: 0.880000, val_loss:  0.913485 val_acc: 0.747634\n",
      "(Epoch 33 / 50), train loss: 0.271767, train acc: 0.920000, val_loss:  0.653488 val_acc: 0.782334\n",
      "(Epoch 34 / 50), train loss: 0.095697, train acc: 0.870000, val_loss:  1.080292 val_acc: 0.766562\n",
      "(Epoch 35 / 50), train loss: 0.266262, train acc: 0.950000, val_loss:  0.379481 val_acc: 0.801262\n",
      "(Epoch 36 / 50), train loss: 0.238263, train acc: 0.910000, val_loss:  0.290707 val_acc: 0.788644\n",
      "(Epoch 37 / 50), train loss: 0.304437, train acc: 0.890000, val_loss:  0.908630 val_acc: 0.763407\n",
      "(Epoch 38 / 50), train loss: 0.147738, train acc: 0.950000, val_loss:  0.596372 val_acc: 0.813880\n",
      "(Epoch 39 / 50), train loss: 0.311901, train acc: 0.950000, val_loss:  0.551200 val_acc: 0.829653\n",
      "(Epoch 40 / 50), train loss: 0.324650, train acc: 0.870000, val_loss:  0.490395 val_acc: 0.769716\n",
      "(Epoch 41 / 50), train loss: 0.065716, train acc: 0.940000, val_loss:  0.672969 val_acc: 0.782334\n",
      "(Epoch 42 / 50), train loss: 0.108691, train acc: 0.910000, val_loss:  0.427384 val_acc: 0.798107\n",
      "(Epoch 43 / 50), train loss: 0.127211, train acc: 0.950000, val_loss:  0.399912 val_acc: 0.804416\n",
      "(Epoch 44 / 50), train loss: 0.257651, train acc: 0.960000, val_loss:  0.238108 val_acc: 0.823344\n",
      "(Epoch 45 / 50), train loss: 0.196463, train acc: 0.980000, val_loss:  0.833874 val_acc: 0.826498\n",
      "(Epoch 46 / 50), train loss: 0.143063, train acc: 0.920000, val_loss:  0.583494 val_acc: 0.794953\n",
      "(Epoch 47 / 50), train loss: 0.139219, train acc: 0.990000, val_loss:  0.611447 val_acc: 0.845426\n",
      "(Epoch 48 / 50), train loss: 0.048617, train acc: 0.960000, val_loss:  0.690323 val_acc: 0.835962\n",
      "(Epoch 49 / 50), train loss: 0.092832, train acc: 0.950000, val_loss:  0.813287 val_acc: 0.810726\n",
      "(Epoch 50 / 50), train loss: 0.133745, train acc: 0.980000, val_loss:  0.159975 val_acc: 0.870662\n",
      "Finished\n"
     ]
    }
   ],
   "source": [
    "trainer = CNN_Model.train(Xtr[:450], Ytr[:450], Xval, Yval, num_epochs= 50, learning_rate = 1e-4, \n",
    "                  learning_rate_decay = 0.95,batch_size = 32, verbose = True)"
   ]
  },
  {
   "cell_type": "code",
   "execution_count": 16,
   "metadata": {
    "scrolled": true
   },
   "outputs": [
    {
     "name": "stdout",
     "output_type": "stream",
     "text": [
      "ACCR is:  0.861198738170347\n"
     ]
    }
   ],
   "source": [
    "y_pred=CNN_Model.test(test_data)\n",
    "print ('ACCR is: ', (y_pred== test_label).mean())"
   ]
  },
  {
   "cell_type": "code",
   "execution_count": 20,
   "metadata": {},
   "outputs": [
    {
     "name": "stdout",
     "output_type": "stream",
     "text": [
      "CCRns are\n",
      "Class 0 ACCR is 0.968750 \n",
      "Class 1 ACCR is 0.915254 \n",
      "Class 2 ACCR is 0.855556 \n",
      "Class 3 ACCR is 0.843137 \n",
      "Class 4 ACCR is 0.698113 \n"
     ]
    }
   ],
   "source": [
    "print ('CCRns are')\n",
    "for i in range(5):\n",
    "    print ('Class %d ACCR is %f ' % (i,  np.sum( np.logical_and(y_pred == test_label, test_label == i)) / float(np.sum(test_label == i)))) "
   ]
  },
  {
   "cell_type": "code",
   "execution_count": 33,
   "metadata": {},
   "outputs": [
    {
     "data": {
      "image/png": "[encoded data removed]",
      "text/plain": [
       "<Figure size 432x288 with 1 Axes>"
      ]
     },
     "metadata": {
      "needs_background": "light"
     },
     "output_type": "display_data"
    },
    {
     "data": {
      "image/png": "[encoded data removed]",
      "text/plain": [
       "<Figure size 432x288 with 1 Axes>"
      ]
     },
     "metadata": {
      "needs_background": "light"
     },
     "output_type": "display_data"
    }
   ],
   "source": [
    "import matplotlib.pyplot as plt\n",
    "\n",
    "plt.plot(CNN_Model.train_loss,'r-')\n",
    "plt.xlabel('Epoch')\n",
    "plt.ylabel('Training Loss')\n",
    "plt.title('Best Training Loss VS Epochs')\n",
    "plt.show()\n",
    "\n",
    "\n",
    "plt.plot(CNN_Model.val_loss,'g-')\n",
    "plt.xlabel('Epoch')\n",
    "plt.ylabel('traking the validation Loss via time')\n",
    "plt.title('Validation Loss VS Epochs')\n",
    "plt.show()\n"
   ]
  },
  {
   "cell_type": "code",
   "execution_count": 36,
   "metadata": {},
   "outputs": [
    {
     "data": {
      "image/png": "[encoded data removed]",
      "text/plain": [
       "<Figure size 432x288 with 1 Axes>"
      ]
     },
     "metadata": {
      "needs_background": "light"
     },
     "output_type": "display_data"
    }
   ],
   "source": [
    "plt.plot(CNN_Model.all_train_acc, 'b-')\n",
    "plt.plot(CNN_Model.all_val_acc, 'g-')\n",
    "plt.title('Training and Validation Accuracy VS time')\n",
    "plt.xlabel('Epoch')\n",
    "plt.ylabel('Accuracy')\n",
    "plt.show()"
   ]
  },
  {
   "cell_type": "code",
   "execution_count": null,
   "metadata": {},
   "outputs": [],
   "source": []
  }
 ],
 "metadata": {
  "kernelspec": {
   "display_name": "Python 3",
   "language": "python",
   "name": "python3"
  },
  "language_info": {
   "codemirror_mode": {
    "name": "ipython",
    "version": 3
   },
   "file_extension": ".py",
   "mimetype": "text/x-python",
   "name": "python",
   "nbconvert_exporter": "python",
   "pygments_lexer": "ipython3",
   "version": "3.7.6"
  }
 },
 "nbformat": 4,
 "nbformat_minor": 2
}
